{
 "cells": [
  {
   "cell_type": "code",
   "execution_count": 45,
   "metadata": {},
   "outputs": [],
   "source": [
    "from urllib.request import urlopen # no need \n",
    "import urllib.request\n",
    "from bs4 import BeautifulSoup as BS\n",
    "import pandas as pd\n",
    "from urllib.parse import urlparse, urlsplit\n",
    "from PIL import Image"
   ]
  },
  {
   "cell_type": "code",
   "execution_count": 60,
   "metadata": {},
   "outputs": [],
   "source": [
    "website_page = 'http://<site you want to scrape the images from>'\n",
    "page = urlopen(website_page)\n",
    "soup = BS(page)\n",
    "# soup # uncomment to see all the page source"
   ]
  },
  {
   "cell_type": "code",
   "execution_count": 61,
   "metadata": {},
   "outputs": [],
   "source": [
    "image_tags = soup.find_all('img')\n",
    "image_links = []\n",
    "for img in image_tags:\n",
    "    stringImage = str(img)\n",
    "    # get the first part of the image\n",
    "    firstPart = stringImage[stringImage.index('src=\"') + 5 :]\n",
    "    # Get rid of the end\n",
    "    image_links.append(firstPart[:firstPart.index('\"')])\n",
    "    "
   ]
  },
  {
   "cell_type": "code",
   "execution_count": 62,
   "metadata": {},
   "outputs": [
    {
     "data": {
      "text/plain": [
       "['https://d5nxst8fruw4z.cloudfront.net/atrk.gif?account=o8Kqg1awAe00Gn',\n",
       " 'http://www.dumpaday.com/wp-content/uploads/2015/04/DumpADay-New-Logo.png',\n",
       " 'http://www.dumpaday.com/wp-content/uploads/2017/04/New-Dump-Previous-Button2.png',\n",
       " 'http://www.dumpaday.com/wp-content/uploads/2017/04/New-Dump-Suprise-Me-Button-1.png',\n",
       " 'http://www.dumpaday.com/wp-content/uploads/2017/04/New-Dump-Next-Button2.png',\n",
       " 'http://www.dumpaday.com/wp-content/uploads/2018/08/1-5.jpg',\n",
       " 'http://www.dumpaday.com/wp-content/uploads/2018/08/2-9.jpg',\n",
       " 'http://www.dumpaday.com/wp-content/uploads/2018/08/3-9.jpg',\n",
       " 'http://www.dumpaday.com/wp-content/uploads/2018/08/4-6.jpg',\n",
       " 'http://www.dumpaday.com/wp-content/uploads/2018/08/5-5.jpg',\n",
       " 'http://www.dumpaday.com/wp-content/uploads/2018/08/6-6.jpg',\n",
       " 'http://www.dumpaday.com/wp-content/uploads/2018/08/7-6.jpg',\n",
       " 'http://www.dumpaday.com/wp-content/uploads/2018/08/8-5.jpg',\n",
       " 'http://www.dumpaday.com/wp-content/uploads/2018/08/9-5.jpg',\n",
       " 'http://www.dumpaday.com/wp-content/uploads/2018/08/10-5.jpg',\n",
       " 'http://www.dumpaday.com/wp-content/uploads/2018/08/11-1.jpg',\n",
       " 'http://www.dumpaday.com/wp-content/uploads/2018/08/12-1.jpg',\n",
       " 'http://www.dumpaday.com/wp-content/uploads/2018/08/13-1.jpg',\n",
       " 'http://www.dumpaday.com/wp-content/uploads/2018/08/14-1.jpg',\n",
       " 'http://www.dumpaday.com/wp-content/uploads/2018/08/15-1.jpg',\n",
       " 'http://www.dumpaday.com/wp-content/uploads/2018/08/married-twitter-quotes-1.jpg',\n",
       " 'http://www.dumpaday.com/wp-content/uploads/2018/08/married-twitter-quotes-2.jpg',\n",
       " 'http://www.dumpaday.com/wp-content/uploads/2018/08/married-twitter-quotes-3.jpg',\n",
       " 'http://www.dumpaday.com/wp-content/uploads/2018/08/married-twitter-quotes-4.jpg',\n",
       " 'http://www.dumpaday.com/wp-content/uploads/2018/08/married-twitter-quotes-5.jpg',\n",
       " 'http://www.dumpaday.com/wp-content/uploads/2018/08/married-twitter-quotes-6.jpg',\n",
       " 'http://www.dumpaday.com/wp-content/uploads/2018/08/married-twitter-quotes-7.jpg',\n",
       " 'http://www.dumpaday.com/wp-content/uploads/2018/08/married-twitter-quotes-8.jpg',\n",
       " 'http://www.dumpaday.com/wp-content/uploads/2018/08/married-twitter-quotes-9.jpg',\n",
       " 'http://www.dumpaday.com/wp-content/uploads/2018/08/married-twitter-quotes-10.jpg',\n",
       " 'http://www.dumpaday.com/wp-content/uploads/2018/08/married-twitter-quotes-11.jpg',\n",
       " 'http://www.dumpaday.com/wp-content/uploads/2018/08/married-twitter-quotes-12.jpg',\n",
       " 'http://www.dumpaday.com/wp-content/uploads/2018/08/married-twitter-quotes-13.jpg',\n",
       " 'http://www.dumpaday.com/wp-content/uploads/2017/04/New-Dump-Previous-Button2.png',\n",
       " 'http://www.dumpaday.com/wp-content/uploads/2017/04/New-Dump-Suprise-Me-Button-1.png',\n",
       " 'http://www.dumpaday.com/wp-content/uploads/2017/04/New-Dump-Next-Button2.png',\n",
       " 'http://www.dumpaday.com/wp-content/uploads/2016/12/DumpADay-Instagram-button-copy.png',\n",
       " 'http://www.dumpaday.com/wp-content/uploads/2014/03/dumpaday-twitter.png',\n",
       " 'http://www.dumpaday.com/wp-content/uploads/2013/06/DumpADay-Pinterest-Button-copy.png',\n",
       " 'http://www.dumpaday.com/wp-content/uploads/2013/06/DumpADay-Facebook-Button-copy.png',\n",
       " 'http://www.dumpaday.com/wp-content/uploads/2015/05/DumpADay-Subscribe-Button.png',\n",
       " 'http://www.dumpaday.com/wp-content/uploads/2018/08/00-41-75x75.jpg',\n",
       " 'http://www.dumpaday.com/wp-content/uploads/2018/08/00-39-75x75.jpg',\n",
       " 'http://www.dumpaday.com/wp-content/uploads/2018/08/00-40-75x75.jpg',\n",
       " 'http://www.dumpaday.com/wp-content/uploads/2018/08/00-38-75x75.jpg',\n",
       " 'http://www.dumpaday.com/wp-content/uploads/2018/08/00-37-75x75.jpg',\n",
       " 'http://www.dumpaday.com/wp-content/uploads/2018/08/00-36-75x75.jpg',\n",
       " 'http://www.dumpaday.com/wp-content/uploads/2018/08/00-35-75x75.jpg',\n",
       " 'http://www.dumpaday.com/wp-content/uploads/2018/08/00-34-75x75.jpg']"
      ]
     },
     "execution_count": 62,
     "metadata": {},
     "output_type": "execute_result"
    }
   ],
   "source": [
    "image_links"
   ]
  },
  {
   "cell_type": "code",
   "execution_count": 63,
   "metadata": {},
   "outputs": [
    {
     "name": "stdout",
     "output_type": "stream",
     "text": [
      "Couldn't save the file: atrk.gif?account=o8Kqg1awAe00Gn\n",
      "Save sucess [0|49]\n",
      "Save sucess [1|49]\n",
      "Save sucess [2|49]\n",
      "Save sucess [3|49]\n",
      "Save sucess [4|49]\n",
      "Save sucess [5|49]\n",
      "Save sucess [6|49]\n",
      "Save sucess [7|49]\n",
      "Save sucess [8|49]\n",
      "Save sucess [9|49]\n",
      "Save sucess [10|49]\n",
      "Save sucess [11|49]\n",
      "Save sucess [12|49]\n",
      "Save sucess [13|49]\n",
      "Save sucess [14|49]\n",
      "Save sucess [15|49]\n",
      "Save sucess [16|49]\n",
      "Save sucess [17|49]\n",
      "Save sucess [18|49]\n",
      "Save sucess [19|49]\n",
      "Save sucess [20|49]\n",
      "Save sucess [21|49]\n",
      "Save sucess [22|49]\n",
      "Save sucess [23|49]\n",
      "Save sucess [24|49]\n",
      "Save sucess [25|49]\n",
      "Save sucess [26|49]\n",
      "Save sucess [27|49]\n",
      "Save sucess [28|49]\n",
      "Save sucess [29|49]\n",
      "Save sucess [30|49]\n",
      "Save sucess [31|49]\n",
      "Save sucess [32|49]\n",
      "Save sucess [33|49]\n",
      "Save sucess [34|49]\n",
      "Save sucess [35|49]\n",
      "Save sucess [36|49]\n",
      "Save sucess [37|49]\n",
      "Save sucess [38|49]\n",
      "Save sucess [39|49]\n",
      "Save sucess [40|49]\n",
      "Save sucess [41|49]\n",
      "Save sucess [42|49]\n",
      "Save sucess [43|49]\n",
      "Save sucess [44|49]\n",
      "Save sucess [45|49]\n",
      "Save sucess [46|49]\n",
      "Save sucess [47|49]\n",
      "Save sucess [48|49]\n"
     ]
    }
   ],
   "source": [
    "saveCount = 0\n",
    "for link in image_links:\n",
    "    # get the file name:\n",
    "    filename = link.split('/')[-1]\n",
    "    total = len(image_links)\n",
    "    try:\n",
    "        # save the file\n",
    "        urllib.request.urlretrieve(link, filename)\n",
    "        saveCount += 1\n",
    "    except:\n",
    "        print(f\"Couldn't save the file: {filename}\")\n",
    "        \n",
    "    print(f\"Save sucess [{saveCount}|{total}]\")    "
   ]
  },
  {
   "cell_type": "code",
   "execution_count": null,
   "metadata": {},
   "outputs": [],
   "source": []
  }
 ],
 "metadata": {
  "kernelspec": {
   "display_name": "Python 3",
   "language": "python",
   "name": "python3"
  },
  "language_info": {
   "codemirror_mode": {
    "name": "ipython",
    "version": 3
   },
   "file_extension": ".py",
   "mimetype": "text/x-python",
   "name": "python",
   "nbconvert_exporter": "python",
   "pygments_lexer": "ipython3",
   "version": "3.7.0"
  }
 },
 "nbformat": 4,
 "nbformat_minor": 2
}
