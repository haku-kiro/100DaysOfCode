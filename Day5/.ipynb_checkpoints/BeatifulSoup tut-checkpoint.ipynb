{
 "cells": [
  {
   "cell_type": "code",
   "execution_count": null,
   "metadata": {},
   "outputs": [],
   "source": [
    "from urllib.request import urlopen # no need \n",
    "import urllib.request\n",
    "from bs4 import BeautifulSoup as BS\n",
    "import pandas as pd\n",
    "from urllib.parse import urlparse, urlsplit\n",
    "from PIL import Image"
   ]
  },
  {
   "cell_type": "code",
   "execution_count": null,
   "metadata": {},
   "outputs": [],
   "source": [
    "website_page = 'http://<site you want to scrape the images from>'\n",
    "page = urlopen(website_page)\n",
    "soup = BS(page)\n",
    "# soup # uncomment to see all the page source"
   ]
  },
  {
   "cell_type": "code",
   "execution_count": null,
   "metadata": {},
   "outputs": [],
   "source": [
    "image_tags = soup.find_all('img')\n",
    "image_links = []\n",
    "for img in image_tags:\n",
    "    stringImage = str(img)\n",
    "    # get the first part of the image\n",
    "    firstPart = stringImage[stringImage.index('src=\"') + 5 :]\n",
    "    # Get rid of the end\n",
    "    image_links.append(firstPart[:firstPart.index('\"')])\n",
    "    "
   ]
  },
  {
   "cell_type": "code",
   "execution_count": null,
   "metadata": {},
   "outputs": [],
   "source": [
    "image_links"
   ]
  },
  {
   "cell_type": "code",
   "execution_count": null,
   "metadata": {},
   "outputs": [],
   "source": [
    "saveCount = 0\n",
    "for link in image_links:\n",
    "    # get the file name:\n",
    "    filename = link.split('/')[-1]\n",
    "    total = len(image_links)\n",
    "    try:\n",
    "        # save the file\n",
    "        urllib.request.urlretrieve(link, filename)\n",
    "        saveCount += 1\n",
    "    except:\n",
    "        print(f\"Couldn't save the file: {filename}\")\n",
    "        \n",
    "    print(f\"Save sucess [{saveCount}|{total}]\")    "
   ]
  },
  {
   "cell_type": "code",
   "execution_count": null,
   "metadata": {},
   "outputs": [],
   "source": []
  }
 ],
 "metadata": {
  "kernelspec": {
   "display_name": "Python 3",
   "language": "python",
   "name": "python3"
  },
  "language_info": {
   "codemirror_mode": {
    "name": "ipython",
    "version": 3
   },
   "file_extension": ".py",
   "mimetype": "text/x-python",
   "name": "python",
   "nbconvert_exporter": "python",
   "pygments_lexer": "ipython3",
   "version": "3.7.0"
  }
 },
 "nbformat": 4,
 "nbformat_minor": 2
}
